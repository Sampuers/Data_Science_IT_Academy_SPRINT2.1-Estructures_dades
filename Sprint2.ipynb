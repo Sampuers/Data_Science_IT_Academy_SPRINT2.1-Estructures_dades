{
 "cells": [
  {
   "cell_type": "code",
   "execution_count": 2,
   "id": "951ee440",
   "metadata": {},
   "outputs": [
    {
     "name": "stdout",
     "output_type": "stream",
     "text": [
      "['Enero', 'Febrero', 'Marzo', 'Abril', 'Mayo', 'Junio', 'Julio', 'Agosto', 'Septiembre', 'Octubre', 'Noviembre', 'Diciembre']\n"
     ]
    }
   ],
   "source": [
    "## EXERCICI 1\n",
    "## Crea una llista que agrupi els mesos de l’any en trimestres (1T: gener, febrer i març; 2T: abril, maig, juny...), és a dir, una llista amb 4 llistes dins.\n",
    "\n",
    "T1 = [\"Enero\", \"Febrero\", \"Marzo\"]\n",
    "T2 = [\"Abril\", \"Mayo\", \"Junio\"]\n",
    "T3 = [\"Julio\", \"Agosto\", \"Septiembre\"]\n",
    "T4 = [\"Octubre\", \"Noviembre\", \"Diciembre\"]\n",
    "\n",
    "meses_año = T1 + T2 + T3 + T4\n",
    "print (meses_año)\n",
    "\n"
   ]
  },
  {
   "cell_type": "code",
   "execution_count": 3,
   "id": "43bbf150",
   "metadata": {},
   "outputs": [
    {
     "name": "stdout",
     "output_type": "stream",
     "text": [
      "Febrero\n",
      "['Enero', 'Febrero', 'Marzo']\n",
      "Septiembre Octubre\n"
     ]
    }
   ],
   "source": [
    "## EXERCICI 2\n",
    "## Crea un codi que et permeti accedir a:\n",
    "        # El segon mes del primer trimestre.\n",
    "        # Els mesos del primer trimestre.\n",
    "        # Setembre i octubre.\n",
    "\n",
    "print(T1[1])\n",
    "print(T1)\n",
    "print((T3[2]),(T4[0]))\n",
    "\n"
   ]
  },
  {
   "cell_type": "code",
   "execution_count": 4,
   "id": "c0cd947f",
   "metadata": {},
   "outputs": [
    {
     "name": "stdout",
     "output_type": "stream",
     "text": [
      "[2, 7, 9, 5, 1, 12, 18, 15]\n"
     ]
    }
   ],
   "source": [
    "## EXERCICI 3\n",
    "## Crea una llista amb nombres desordenats i respon a les següents preguntes:\n",
    "        # Quants números hi ha?\n",
    "        # Quantes vegades apareix el número 3.\n",
    "        # Quantes vegades apareixen els nombres 3 i 4?\n",
    "        # Quin és el número més gran?\n",
    "        # Quins són els 3 números més petits?\n",
    "        # Quin és el rang d’aquesta llista?\n",
    "\n",
    "lista = [2,7,9,5,1,12,18,15]\n",
    "print(lista)"
   ]
  },
  {
   "cell_type": "code",
   "execution_count": 5,
   "id": "c373a016",
   "metadata": {},
   "outputs": [
    {
     "data": {
      "text/plain": [
       "8"
      ]
     },
     "execution_count": 5,
     "metadata": {},
     "output_type": "execute_result"
    }
   ],
   "source": [
    "# 3.1\n",
    "\n",
    "len(lista)"
   ]
  },
  {
   "cell_type": "code",
   "execution_count": 6,
   "id": "dc82e886",
   "metadata": {},
   "outputs": [
    {
     "data": {
      "text/plain": [
       "0"
      ]
     },
     "execution_count": 6,
     "metadata": {},
     "output_type": "execute_result"
    }
   ],
   "source": [
    "# 3.2\n",
    "\n",
    "lista.count(3)"
   ]
  },
  {
   "cell_type": "code",
   "execution_count": 7,
   "id": "2c50115b",
   "metadata": {},
   "outputs": [
    {
     "name": "stdout",
     "output_type": "stream",
     "text": [
      "0\n"
     ]
    }
   ],
   "source": [
    "# 3.3\n",
    "\n",
    "print(lista.count(3 and 4))"
   ]
  },
  {
   "cell_type": "code",
   "execution_count": 8,
   "id": "a667c8d6",
   "metadata": {},
   "outputs": [
    {
     "data": {
      "text/plain": [
       "18"
      ]
     },
     "execution_count": 8,
     "metadata": {},
     "output_type": "execute_result"
    }
   ],
   "source": [
    "# 3.4\n",
    "\n",
    "max(lista)"
   ]
  },
  {
   "cell_type": "code",
   "execution_count": 9,
   "id": "c174d429",
   "metadata": {},
   "outputs": [
    {
     "name": "stdout",
     "output_type": "stream",
     "text": [
      "[1, 2, 5]\n"
     ]
    }
   ],
   "source": [
    "# 3.5\n",
    "\n",
    "lista = [2,7,9,5,1,12,18,15]\n",
    "\n",
    "ordenada_lista = sorted(lista)\n",
    "\n",
    "print(ordenada_lista[:3])\n"
   ]
  },
  {
   "cell_type": "code",
   "execution_count": 14,
   "id": "a8121f0b",
   "metadata": {},
   "outputs": [
    {
     "name": "stdout",
     "output_type": "stream",
     "text": [
      "17\n"
     ]
    }
   ],
   "source": [
    "# 3.6\n",
    "\n",
    "Rango_lista = max(lista)-min(lista)\n",
    "\n",
    "print(Rango_lista)\n",
    "    "
   ]
  },
  {
   "cell_type": "code",
   "execution_count": 6,
   "id": "7e36e503",
   "metadata": {},
   "outputs": [
    {
     "name": "stdout",
     "output_type": "stream",
     "text": [
      "{'Pomes': {'Qty': 5, '€': 0.42}, 'Peres': {'Qty': 3, '€': 0.66}}\n"
     ]
    }
   ],
   "source": [
    "## EXCERCICI 4\n",
    "# Crea un diccionari compra = { \"Pomes\" : {\"Qty\": 5, \"€\": 0.42}, \"Peres\" : {\"Qty\": 3, \"€\": 0.66} }\n",
    "        # Afegeix alguna fruita més\n",
    "        # Quant han costat les peres en total?\n",
    "        # Quantes fruites hem comprat en total?\n",
    "        # Quina és la fruita més cara?\n",
    "\n",
    "\n",
    "compra = { \n",
    "    \"Pomes\" : {\n",
    "       \"Qty\": 5,\n",
    "         \"€\": 0.42\n",
    "    },\n",
    "    \"Peres\" : {\n",
    "       \"Qty\": 3,\n",
    "         \"€\": 0.66} \n",
    "}\n",
    "\n",
    "print(compra)\n"
   ]
  },
  {
   "cell_type": "code",
   "execution_count": 7,
   "id": "34cb39e5",
   "metadata": {},
   "outputs": [
    {
     "name": "stdout",
     "output_type": "stream",
     "text": [
      "dict_values([{'Qty': 5, '€': 0.42}, {'Qty': 3, '€': 0.66}])\n",
      "dict_values([{'Qty': 5, '€': 0.42}, {'Qty': 3, '€': 0.66}, {'Qty': 3, '€': 0.53}])\n",
      "{'Pomes': {'Qty': 5, '€': 0.42}, 'Peres': {'Qty': 3, '€': 0.66}, 'Mandarines': {'Qty': 3, '€': 0.53}}\n"
     ]
    }
   ],
   "source": [
    "# 4.1\n",
    "\n",
    "x = compra.values()\n",
    "\n",
    "print(x)\n",
    "\n",
    "compra[\"Mandarines\"] = {\"Qty\": 3,\n",
    "         \"€\": 0.53}\n",
    "\n",
    "print(x)\n",
    "print(compra)\n"
   ]
  },
  {
   "cell_type": "code",
   "execution_count": 29,
   "id": "9c636ea4",
   "metadata": {},
   "outputs": [
    {
     "name": "stdout",
     "output_type": "stream",
     "text": [
      "1.98\n"
     ]
    }
   ],
   "source": [
    "# 4.2\n",
    "\n",
    "Qty_peras = compra[\"Peres\"][\"Qty\"]\n",
    "precio_peras = compra[\"Peres\"][\"€\"]\n",
    "\n",
    "total_peras = Qty_peras * precio_peras\n",
    "\n",
    "print(total_peras)\n"
   ]
  },
  {
   "cell_type": "code",
   "execution_count": 34,
   "id": "8060ebab",
   "metadata": {},
   "outputs": [
    {
     "name": "stdout",
     "output_type": "stream",
     "text": [
      "11\n"
     ]
    }
   ],
   "source": [
    "# 4.3\n",
    "\n",
    "total_frutas = 0\n",
    "for fruta, detalles in compra.items():\n",
    "    total_frutas += detalles[\"Qty\"]\n",
    "\n",
    "\n",
    "print(total_frutas)\n"
   ]
  },
  {
   "cell_type": "code",
   "execution_count": 40,
   "id": "51afede6",
   "metadata": {},
   "outputs": [
    {
     "name": "stdout",
     "output_type": "stream",
     "text": [
      "Mandarines\n"
     ]
    }
   ],
   "source": [
    "# 4.4\n",
    "\n",
    "fruta_cara = 0\n",
    "precio_alto = 0\n",
    "\n",
    "for fruta, detalles in compra.items():\n",
    "    precio = detalles[\"€\"]\n",
    "\n",
    "if precio > precio_alto:\n",
    "        fruta_cara = fruta\n",
    "\n",
    "print (fruta_cara)"
   ]
  },
  {
   "cell_type": "code",
   "execution_count": null,
   "id": "8bdcc847",
   "metadata": {},
   "outputs": [],
   "source": []
  }
 ],
 "metadata": {
  "kernelspec": {
   "display_name": "Python 3 (ipykernel)",
   "language": "python",
   "name": "python3"
  },
  "language_info": {
   "codemirror_mode": {
    "name": "ipython",
    "version": 3
   },
   "file_extension": ".py",
   "mimetype": "text/x-python",
   "name": "python",
   "nbconvert_exporter": "python",
   "pygments_lexer": "ipython3",
   "version": "3.10.9"
  }
 },
 "nbformat": 4,
 "nbformat_minor": 5
}
